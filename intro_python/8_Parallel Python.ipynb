{
 "cells": [
  {
   "cell_type": "markdown",
   "metadata": {},
   "source": [
    "Everything we have discussed now, only refers to calculations that use a single processor, but Python already offers a series of tools and implementations for parallel computing. In this notebook, we will discuss some of the possible uses and existing libraries on Parallel python. Up to now, we have made choices on the libraries we have been using, but we would like to stress that this is a very important step in the case of high performance computing. As this is going to be an important factor, let us recall a function that we will use a lot %timeit. This is just a method to measure the time used for the computation.\n",
    "\n",
    "As you can image, no all algorithms and parallelizable and that is something we need to keep in mind. Also, Python is not the programming language for parallelization but, as you have already covered a lot, I think, it is a good idea that we used to build the basics of parallel computing.\n",
    "\n",
    "Another issue, it is how to improve Python performance. Python is not really created for numerical applications but it is true that we can use different packages or methodologies to be interface with python. This is what is going to be discussed here. We will discuss, where it is going to be a good idea to communicate with an external package (probably created by a compiled language) or when the overhead could be so big that using python would be better."
   ]
  },
  {
   "cell_type": "markdown",
   "metadata": {},
   "source": [
    "# Intrinsic Parallelization (Numpy and Scipy)"
   ]
  },
  {
   "cell_type": "markdown",
   "metadata": {},
   "source": [
    "As discussed, the core part of Numpy is to deal with numpy arrays. This library has a lot of functionality, where many of the functions come from intrinsic implementations from C or Fortran. Usually the library relies on Lapack or BLAS to perform low level computations (if the libraries already exist in your library, you need to configure and compile Numpy in your system. To check which configuration you are using, runs the following commands"
   ]
  },
  {
   "cell_type": "code",
   "execution_count": 1,
   "metadata": {},
   "outputs": [
    {
     "name": "stdout",
     "output_type": "stream",
     "text": [
      "blas_mkl_info:\n",
      "    libraries = ['mkl_rt', 'pthread']\n",
      "    library_dirs = ['/usr/local/anaconda/lib']\n",
      "    define_macros = [('SCIPY_MKL_H', None), ('HAVE_CBLAS', None)]\n",
      "    include_dirs = ['/usr/local/anaconda/include']\n",
      "blas_opt_info:\n",
      "    libraries = ['mkl_rt', 'pthread']\n",
      "    library_dirs = ['/usr/local/anaconda/lib']\n",
      "    define_macros = [('SCIPY_MKL_H', None), ('HAVE_CBLAS', None)]\n",
      "    include_dirs = ['/usr/local/anaconda/include']\n",
      "lapack_mkl_info:\n",
      "    libraries = ['mkl_rt', 'pthread']\n",
      "    library_dirs = ['/usr/local/anaconda/lib']\n",
      "    define_macros = [('SCIPY_MKL_H', None), ('HAVE_CBLAS', None)]\n",
      "    include_dirs = ['/usr/local/anaconda/include']\n",
      "lapack_opt_info:\n",
      "    libraries = ['mkl_rt', 'pthread']\n",
      "    library_dirs = ['/usr/local/anaconda/lib']\n",
      "    define_macros = [('SCIPY_MKL_H', None), ('HAVE_CBLAS', None)]\n",
      "    include_dirs = ['/usr/local/anaconda/include']\n",
      "lapack_mkl_info:\n",
      "    libraries = ['mkl_rt', 'pthread']\n",
      "    library_dirs = ['/usr/local/anaconda/lib']\n",
      "    define_macros = [('SCIPY_MKL_H', None), ('HAVE_CBLAS', None)]\n",
      "    include_dirs = ['/usr/local/anaconda/include']\n",
      "lapack_opt_info:\n",
      "    libraries = ['mkl_rt', 'pthread']\n",
      "    library_dirs = ['/usr/local/anaconda/lib']\n",
      "    define_macros = [('SCIPY_MKL_H', None), ('HAVE_CBLAS', None)]\n",
      "    include_dirs = ['/usr/local/anaconda/include']\n",
      "blas_mkl_info:\n",
      "    libraries = ['mkl_rt', 'pthread']\n",
      "    library_dirs = ['/usr/local/anaconda/lib']\n",
      "    define_macros = [('SCIPY_MKL_H', None), ('HAVE_CBLAS', None)]\n",
      "    include_dirs = ['/usr/local/anaconda/include']\n",
      "blas_opt_info:\n",
      "    libraries = ['mkl_rt', 'pthread']\n",
      "    library_dirs = ['/usr/local/anaconda/lib']\n",
      "    define_macros = [('SCIPY_MKL_H', None), ('HAVE_CBLAS', None)]\n",
      "    include_dirs = ['/usr/local/anaconda/include']\n"
     ]
    }
   ],
   "source": [
    "import numpy, scipy\n",
    "numpy.__config__.show()\n",
    "scipy.__config__.show()"
   ]
  },
  {
   "cell_type": "markdown",
   "metadata": {},
   "source": [
    "If they are not linked to CLAS of LAPACK, you will need to reconfigure your Numpy. For such, you can look on the web on how to do that.\n",
    "Now, the operations in Numpy are vectorized, which means that if we add two vectors and they do not have the same dimension, it will raise an error. For example"
   ]
  },
  {
   "cell_type": "code",
   "execution_count": 2,
   "metadata": {},
   "outputs": [],
   "source": [
    "import numpy as np"
   ]
  },
  {
   "cell_type": "code",
   "execution_count": 3,
   "metadata": {},
   "outputs": [
    {
     "ename": "ValueError",
     "evalue": "operands could not be broadcast together with shapes (10,) (8,) ",
     "output_type": "error",
     "traceback": [
      "\u001b[0;31m---------------------------------------------------------------------------\u001b[0m",
      "\u001b[0;31mValueError\u001b[0m                                Traceback (most recent call last)",
      "\u001b[0;32m<ipython-input-3-63ed6791d901>\u001b[0m in \u001b[0;36m<module>\u001b[0;34m\u001b[0m\n\u001b[1;32m      1\u001b[0m \u001b[0ma\u001b[0m\u001b[0;34m=\u001b[0m\u001b[0mnp\u001b[0m\u001b[0;34m.\u001b[0m\u001b[0mones\u001b[0m\u001b[0;34m(\u001b[0m\u001b[0;36m10\u001b[0m\u001b[0;34m)\u001b[0m\u001b[0;34m;\u001b[0m \u001b[0mb\u001b[0m\u001b[0;34m=\u001b[0m\u001b[0mnp\u001b[0m\u001b[0;34m.\u001b[0m\u001b[0mones\u001b[0m\u001b[0;34m(\u001b[0m\u001b[0;36m8\u001b[0m\u001b[0;34m)\u001b[0m\u001b[0;34m\u001b[0m\u001b[0;34m\u001b[0m\u001b[0m\n\u001b[0;32m----> 2\u001b[0;31m \u001b[0ma\u001b[0m\u001b[0;34m+\u001b[0m\u001b[0mb\u001b[0m\u001b[0;34m\u001b[0m\u001b[0;34m\u001b[0m\u001b[0m\n\u001b[0m",
      "\u001b[0;31mValueError\u001b[0m: operands could not be broadcast together with shapes (10,) (8,) "
     ]
    }
   ],
   "source": [
    "a=np.ones(10); b=np.ones(8)\n",
    "a+b"
   ]
  },
  {
   "cell_type": "code",
   "execution_count": 4,
   "metadata": {},
   "outputs": [
    {
     "data": {
      "text/plain": [
       "array([2., 2., 2., 2., 2., 2., 2., 2., 2., 2.])"
      ]
     },
     "execution_count": 4,
     "metadata": {},
     "output_type": "execute_result"
    }
   ],
   "source": [
    "a=np.ones(10); b=np.ones(10)\n",
    "a+b"
   ]
  },
  {
   "cell_type": "markdown",
   "metadata": {},
   "source": [
    "The reason why is it better to use addition or other functions of numpy arrays, it is because these operations are implemented already in C and numpy is just the interface."
   ]
  },
  {
   "cell_type": "markdown",
   "metadata": {},
   "source": [
    "Now, a note on the side, do not confusse element-wise multiplication (A*B) with matrix multiplication (dot(A,B)). For example"
   ]
  },
  {
   "cell_type": "code",
   "execution_count": 5,
   "metadata": {},
   "outputs": [],
   "source": [
    "a=np.ones((4,4))\n",
    "b=np.random.rand(4,4)"
   ]
  },
  {
   "cell_type": "code",
   "execution_count": 6,
   "metadata": {},
   "outputs": [
    {
     "data": {
      "text/plain": [
       "array([[0.65016714, 0.21074025, 0.86923946, 0.6512569 ],\n",
       "       [0.74371951, 0.03867154, 0.75183929, 0.34723408],\n",
       "       [0.32243233, 0.6642168 , 0.26537296, 0.21928945],\n",
       "       [0.91692865, 0.87249886, 0.59012837, 0.00153146]])"
      ]
     },
     "execution_count": 6,
     "metadata": {},
     "output_type": "execute_result"
    }
   ],
   "source": [
    "a*b"
   ]
  },
  {
   "cell_type": "code",
   "execution_count": 7,
   "metadata": {},
   "outputs": [
    {
     "data": {
      "text/plain": [
       "array([[2.63324764, 1.78612745, 2.47658008, 1.21931189],\n",
       "       [2.63324764, 1.78612745, 2.47658008, 1.21931189],\n",
       "       [2.63324764, 1.78612745, 2.47658008, 1.21931189],\n",
       "       [2.63324764, 1.78612745, 2.47658008, 1.21931189]])"
      ]
     },
     "execution_count": 7,
     "metadata": {},
     "output_type": "execute_result"
    }
   ],
   "source": [
    "np.dot(a,b)"
   ]
  },
  {
   "cell_type": "markdown",
   "metadata": {},
   "source": [
    "## Speeding Python"
   ]
  },
  {
   "cell_type": "markdown",
   "metadata": {},
   "source": [
    "Now, as we discussed, there are many other properties in Numpy which are useful on parallel computing. In particular, when it is used with other packages, as it is the case of Scipy. As discussed in the Scipy chapter, this package contains many different algorithms to perform interpolation, Fourier analisys, linear algebra, ordinary differential equations, etc. A great majority of the algorithms are written un C or Fortran and interfaced with Python in this library. \n",
    "We have discussed several examples in the Scipy chapter, but let us here recap and used for the solution of a set of ordinary differential equations. Here, we will use the wrapper odeint, which is a Scipy function on top of the *lsoda* Fortran function. If we time this routine and compare with the compiled version, we will see that Python is really slow. This is mainly due to the fact that Python has to communicate with the Fortran version, pass the data, wait for the one step and do the interpretation of the result."
   ]
  },
  {
   "cell_type": "code",
   "execution_count": 49,
   "metadata": {},
   "outputs": [],
   "source": [
    "import scipy.integrate\n",
    "\n",
    "# Parameters from Google\n",
    "\n",
    "sigma = 10\n",
    "rho = 28\n",
    "beta = 8.0/3\n",
    "\n",
    "def lorenz(xyz, t):\n",
    "    x,y,z = xyz\n",
    "    xdot = sigma*(y-x)\n",
    "    ydot = x*(rho-z) - y\n",
    "    zdot = x*y - beta*z\n",
    "    return [xdot, ydot, zdot]\n",
    "\n",
    "def integrate_lorenz(ic=[1.,1.,1.]):\n",
    "    traj = scipy.integrate.odeint(lorenz, ic, np.arange(0., 1000., 0.05))\n",
    "    return traj"
   ]
  },
  {
   "cell_type": "code",
   "execution_count": 50,
   "metadata": {},
   "outputs": [
    {
     "name": "stdout",
     "output_type": "stream",
     "text": [
      "(20000, 3)\n"
     ]
    }
   ],
   "source": [
    "d=integrate_lorenz()\n",
    "print(d.shape)"
   ]
  },
  {
   "cell_type": "code",
   "execution_count": 51,
   "metadata": {},
   "outputs": [
    {
     "data": {
      "image/png": "[encoded data removed]",
      "text/plain": [
       "<Figure size 432x288 with 1 Axes>"
      ]
     },
     "metadata": {
      "needs_background": "light"
     },
     "output_type": "display_data"
    }
   ],
   "source": [
    "import matplotlib as mpl\n",
    "from mpl_toolkits.mplot3d import Axes3D\n",
    "import matplotlib.pyplot as plt\n",
    "%matplotlib inline  \n",
    "\n",
    "\n",
    "fig = plt.figure()\n",
    "ax = fig.gca(projection='3d')\n",
    "ax.scatter(d[:,0], d[:,1], d[:,2], label='parametric curve')\n",
    "\n",
    "plt.show()\n"
   ]
  },
  {
   "cell_type": "markdown",
   "metadata": {},
   "source": [
    "Now, we have already discussed that using these libraries can be slow. We can improved the performance by using existing libraries that create the C code or the machine language that makes this faster. We have discussed the case of Cython but there is another package which is really easy to use, the so called jit (just in time), which creates C compiled version on the fly. Let see how to use it"
   ]
  },
  {
   "cell_type": "code",
   "execution_count": 53,
   "metadata": {},
   "outputs": [],
   "source": [
    "from numba import jit\n",
    "\n",
    "@jit\n",
    "def numba_lorenz(xyz,t):\n",
    "    x,y,z = xyz\n",
    "    xdot = sigma*(y-x)\n",
    "    ydot = x*(rho-z) - y\n",
    "    zdot = x*y - beta*z\n",
    "    return [xdot, ydot, zdot]\n",
    "\n",
    "def integrate_numba_lorenz(ic=[1.,1.,1.]):\n",
    "    res = scipy.integrate.odeint(numba_lorenz, ic, np.arange(0., 500., 0.05))\n",
    "    return res"
   ]
  },
  {
   "cell_type": "code",
   "execution_count": 54,
   "metadata": {},
   "outputs": [
    {
     "name": "stdout",
     "output_type": "stream",
     "text": [
      "951 ms ± 3.7 ms per loop (mean ± std. dev. of 7 runs, 1 loop each)\n",
      "235 ms ± 2.54 ms per loop (mean ± std. dev. of 7 runs, 1 loop each)\n"
     ]
    }
   ],
   "source": [
    "%timeit integrate_lorenz()\n",
    "%timeit integrate_numba_lorenz()"
   ]
  },
  {
   "cell_type": "markdown",
   "metadata": {},
   "source": [
    "Ok, now we can see that by introducing simple flags we can get performance close to C or Fortran. That is nice and for that you can use some other libraries:"
   ]
  },
  {
   "cell_type": "markdown",
   "metadata": {},
   "source": [
    "\n",
    "+ CFFI and and ctypes provide \"foreign function interfaces\", or lightweight APIs, for calling C libraries from within Python. This library allows you to use existing libraries in your computers as those dylib or so in your distribution .\n",
    "+ Boost.python helps write C++ libraries that Python can import and use easily.\n",
    "+ SWIG reads C and C++ header files and generates a library than Python can load.\n",
    "+ F2PY reads Fortran code and generates a library that Python can load.\n",
    "+ PyCUDA and PyOpenCL provide access within Python to GPUs.\n",
    "\n",
    "You can also write C code by hand, that can be called by Python."
   ]
  },
  {
   "cell_type": "markdown",
   "metadata": {},
   "source": [
    "Now that we are getting more into the optimization of the Python implementation, it is important that we review how we manage different data collections. We have discussed that Python has basically four different data containers:\n",
    "\n",
    "+ lists: mutable sequence and a collection of objects in definite order \n",
    "+ tuple: unmutable sequence and a collection of objects in definite order\n",
    "+ dict: a mapping and unordered associated keys\n",
    "+ set: unordered collection of unique elements\n",
    "\n",
    "The performance of different actions on the different containers is sometimes different and that is why we need to select a good container depending on the application. To show why this is true, let us take the following example (just finding the intersection between two big lists):"
   ]
  },
  {
   "cell_type": "code",
   "execution_count": 55,
   "metadata": {},
   "outputs": [
    {
     "name": "stdout",
     "output_type": "stream",
     "text": [
      "262 µs ± 9.07 µs per loop (mean ± std. dev. of 7 runs, 1000 loops each)\n"
     ]
    }
   ],
   "source": [
    "a = set(range(0,10000))\n",
    "b = set(range(0,10000))\n",
    "%timeit c = a & b"
   ]
  },
  {
   "cell_type": "code",
   "execution_count": 57,
   "metadata": {},
   "outputs": [
    {
     "name": "stdout",
     "output_type": "stream",
     "text": [
      "2.75 s ± 35.9 ms per loop (mean ± std. dev. of 7 runs, 1 loop each)\n"
     ]
    }
   ],
   "source": [
    "a = list(range(0,10000))\n",
    "b = list(range(0,10000))\n",
    "%timeit c = [e1 for e1 in a for e2 in b if e1==e2]"
   ]
  },
  {
   "cell_type": "markdown",
   "metadata": {},
   "source": [
    "Keep this in mind for your application. Always think about the container and if there are tools that allow to search efficiently over the containes (as for example using iteltools). Now let see some simple techniques we can use to make our code faster or better."
   ]
  },
  {
   "cell_type": "markdown",
   "metadata": {},
   "source": [
    "## Lazyness"
   ]
  },
  {
   "cell_type": "markdown",
   "metadata": {},
   "source": [
    "The idea here is to create objects only when they are needed\n",
    "\n",
    "+ Generators: this are functions that create an output but still remember its internal state and therefore can create a succession of actions. A simple example is a *for* loop which are able to create a sequence of data or actions with a predefined stop. \n",
    "\n",
    "+ range: a function that creates a sequence of integer numbers. \n",
    "\n",
    "+ zip:  this is a function that \"zip\" two or mor iterables together. \n",
    "\n",
    "+ open: we can always open a file but then read the whole thing at once: for example\n",
    "\n",
    "with open(\"inputfile\",\"r\") as f:\n",
    "     data=f.readlines()\n",
    "     \n",
    "Now data contains everyting from the file, one line at the time.\n"
   ]
  },
  {
   "cell_type": "code",
   "execution_count": 73,
   "metadata": {},
   "outputs": [
    {
     "name": "stdout",
     "output_type": "stream",
     "text": [
      "<zip object at 0x151c118c80>\n",
      "[('John', 'Jenny'), ('Charles', 'Christy'), ('Mike', 'Monica')]\n",
      "[0, 30]\n",
      "[1, 31]\n",
      "[2, 32]\n",
      "[3, 33]\n",
      "[4, 34]\n",
      "[5, 35]\n",
      "[6, 36]\n",
      "[7, 37]\n",
      "[8, 38]\n",
      "[9, 39]\n",
      "[('John', 'Jenny', 0), ('Charles', 'Christy', 1), ('Mike', 'Monica', 2), ('?', 'Vicky', 3), ('?', '?', 4)]\n",
      "Number in c: 6\n",
      "Number in d: 0\n",
      "Number in c: 7\n",
      "Number in d: 1\n",
      "Number in c: 8\n",
      "Number in d: 2\n",
      "Number in c: 9\n",
      "Number in d: 3\n"
     ]
    }
   ],
   "source": [
    "a = (\"John\", \"Charles\", \"Mike\")\n",
    "b = (\"Jenny\", \"Christy\", \"Monica\", \"Vicky\")\n",
    "c = list(range(0,10))\n",
    "d = list(range(30,40))\n",
    "\n",
    "x = zip(a, b)\n",
    "print(x)\n",
    "print(list(x))\n",
    "x = zip(c,d)\n",
    "for y in x:\n",
    "    print(list(y))\n",
    "    \n",
    "# Now we can use itertools to fill the missing data in case you are interested on that\n",
    "\n",
    "from itertools import zip_longest\n",
    "\n",
    "c = range(6,10)\n",
    "d = range(5)\n",
    "zipped = zip_longest(a, b, d, fillvalue='?')\n",
    "\n",
    "print(list(zipped))\n",
    "\n",
    "# Another use of zip \n",
    "\n",
    "\n",
    "for l, n in zip(c,d):\n",
    "    print(f'Number in c: {l}')\n",
    "    print(f'Number in d: {n}')\n"
   ]
  },
  {
   "cell_type": "markdown",
   "metadata": {},
   "source": [
    "## Memory Managment"
   ]
  },
  {
   "cell_type": "markdown",
   "metadata": {},
   "source": [
    "Though, it is quite important we optimize our program, one issue that the use needs to take always into account is the memory managment, as it can also impact the code performance. In the case of Python, memory is freed only after the program does not have any other reference to that memory. In C or C++, you always have to allocate or deallocate dynamic memory, while in Python it is not the case. This seems like a very reasonable memory managment but the problem is that the interperter does not really return the memory to the operational system, instead it remains allocated, just in case, the user need it. Therefore, if the system you are running is capped in memory, you will run into troubles. "
   ]
  },
  {
   "cell_type": "markdown",
   "metadata": {},
   "source": [
    "### Memory Profiler"
   ]
  },
  {
   "cell_type": "markdown",
   "metadata": {},
   "source": [
    "To measure the memory use in Python, there are several tricks we can use, for example we can do it for particular objects"
   ]
  },
  {
   "cell_type": "code",
   "execution_count": 5,
   "metadata": {},
   "outputs": [
    {
     "name": "stdout",
     "output_type": "stream",
     "text": [
      "[39, 44, 16, 44, 36, 16, 14]\n"
     ]
    },
    {
     "data": {
      "text/plain": [
       "136"
      ]
     },
     "execution_count": 5,
     "metadata": {},
     "output_type": "execute_result"
    }
   ],
   "source": [
    "import sys\n",
    "import numpy as np\n",
    "import random\n",
    "a=np.random.rand(200)\n",
    "sys.getsizeof(a)\n",
    "#create a list of random integers\n",
    "res = [random.randrange(1, 50, 1) for i in range(7)] \n",
    "print(res)\n",
    "sys.getsizeof(res)"
   ]
  },
  {
   "cell_type": "markdown",
   "metadata": {},
   "source": [
    "If you want to get information about a script you have written, you can use the command\n",
    "\n",
    "python -m memory_profiler myscript.py\n",
    "\n",
    "Or you can also **use mprof**, which plots the memory used in an application. The use is very simple, download the cell below into a script and call it time.py. Then the use is\n",
    "\n",
    "mprof run time.py\n",
    "\n",
    "This command creates a *.dat* file, which is a raw text file that contains the memory use. This can be easily plotted by using \n",
    "\n",
    "mprof plot\n",
    "\n",
    "One detail with respect to the script below. We use the \"@profile\" to define the regions where we want to measure the memory use and also we have included a time delay of one second before returning from the subroutine, as we want to allow the system to gather the memory information.\n",
    "\n"
   ]
  },
  {
   "cell_type": "raw",
   "metadata": {},
   "source": [
    "import time\n",
    "import numpy as np\n",
    "\n",
    "@profile\n",
    "def test1():\n",
    "    a = np.random.rand(10000)\n",
    "    time.sleep(1)\n",
    "    return a\n",
    "\n",
    "@profile\n",
    "def test2():\n",
    "    a = np.random.rand(10000)\n",
    "    time.sleep(1)\n",
    "    return a\n",
    "\n",
    "if __name__ == \"__main__\":\n",
    "    test1()\n",
    "    test2()"
   ]
  },
  {
   "cell_type": "markdown",
   "metadata": {},
   "source": [
    "The most important message for memory managment is that if we know the size of a vector or a matrix, we need to define it in advance. Only use \"append\" if you really do not know the size of your structure. In the case of numpy, you can create preallocated arrays by using *np.zeros()* or *np.empty()*. Also, keep in mind  that if we \"change\" the dimensions or increase the size of a complex array, everything has to be shifted and this will have a computational and memory penaly."
   ]
  },
  {
   "cell_type": "markdown",
   "metadata": {},
   "source": [
    "## Parallel Computation"
   ]
  },
  {
   "cell_type": "markdown",
   "metadata": {},
   "source": [
    "Up to now, we have been using that our code runs serially, but there are many cases were we can see an improvement over performance if we use parallelization. \n",
    "\n",
    "Here we undertand as parallelization as a **task** we can perform simultaneously in different processors at the same time, similar to when you eat, read and write at the same time. Now, the main task we plan to solve can be done on the same computer but then we can have memory issues (memory overhead), or we can have time overhead (some of the sub-tasks take longer than other and we have to wait to continue) or bandwidth overhead, which happens when we have to transfer big chunks of data to the hard drive. We will discuss some solutions later on.\n",
    "\n",
    "Now, before we dive in, it is important that you keep in mind what type of problems we can parallelize. Basically, those that can be split in **sub-tasks** such that the sub-tasks do communicate just a bit with the neighbor ones or no communicate at all. If they do not communicate, the problems is called trivially parallelizable. For this last case, a simple case is to add two big vectors. We can divide the vectors in sections and every section is completely independent of the others. \n",
    "\n",
    "Of course, in the general case, we wil require to know several computational schemes, your ins and outs of your application, etc. We need to use existing tools that support this idea. For that we rely on existing standard libraries that will do the job for us. Here we will discuss only few but the most used one is an interface on top of the MPI (message-passing library) such as mpi4py, multiprocessing or Dask which has been integrated with many other scientific libraries.\n",
    "\n",
    "Now, depending on your available computer, you can face basically two different memory situations.\n",
    "\n",
    "+ Shared memory. Here, the sub-tasks communicate with each other thorugh the same memory space (the computer has to have enough memory to allow all sub-tasks to have the required memory). Though we can run into trouble by accessing some data from memory as this can be modify it as the same time that is read by another sub-tasks, we solve the problem by using synchronization techniques. In this case, a very well known method is to use threads, which exist in many different languages but it is not possible in Python. First of all, we should notice that the CPython interpreter is single-threaded by design and threads can only be run in a single node. \n",
    "\n",
    "+ Distributed memory. Here each sub-task has its own assignated memory space and we only need to worry on the communicateion between the different sub-tasks. \n",
    "\n",
    "\n",
    "\n",
    "Let start with the multiprocessing module, a thread-like interface to multiple Python processes (note: process creation is more expensive than thread creation, though it is better than serial, a full thread parallelization would be faster than processing). Interestingly enough, this method leverage multiple processors on a given machine.\n",
    "\n",
    "One is a master-worker paradigm, using the map() function. This function parallelizes the execution of a function across multiple input values. First you define a Pool of workers, then you execute a function collectively on the Pool. "
   ]
  },
  {
   "cell_type": "code",
   "execution_count": 9,
   "metadata": {},
   "outputs": [
    {
     "name": "stdout",
     "output_type": "stream",
     "text": [
      "[0, 1, 4, 9, 16, 25, 36, 49, 64, 81]\n"
     ]
    }
   ],
   "source": [
    "from multiprocessing import Pool\n",
    "def f(x):\n",
    "    return x*x\n",
    "\n",
    "p = Pool(4)                 # starts 4 worker processes\n",
    "print(p.map(f, range(10)))  # prints \"[0, 1, 4,..., 81]\""
   ]
  },
  {
   "cell_type": "markdown",
   "metadata": {},
   "source": [
    "The maximum number of processes you can run at a time is limited by the number of processors in your computer. "
   ]
  },
  {
   "cell_type": "markdown",
   "metadata": {},
   "source": [
    "We have used the map function within the Pool class, which gives a synchronous execution. Here we will discuss this type of execution and we encourage the reader to search for asynchronous execution. For this last case, processes can start without waiting that the others are done, which can be of interest if data does not need to pass from different subtasks. \n",
    "\n",
    "For now, Let us discuss one example in detail and compare each case."
   ]
  },
  {
   "cell_type": "code",
   "execution_count": 20,
   "metadata": {},
   "outputs": [
    {
     "data": {
      "text/plain": [
       "[[0, 5, 2, 1, 9],\n",
       " [5, 7, 6, 9, 5],\n",
       " [0, 7, 3, 4, 8],\n",
       " [0, 5, 4, 0, 0],\n",
       " [3, 1, 5, 8, 1],\n",
       " [3, 0, 8, 6, 9],\n",
       " [2, 4, 7, 8, 5],\n",
       " [6, 8, 8, 7, 1],\n",
       " [4, 4, 8, 7, 8],\n",
       " [3, 8, 7, 4, 6]]"
      ]
     },
     "execution_count": 20,
     "metadata": {},
     "output_type": "execute_result"
    }
   ],
   "source": [
    "import numpy as np\n",
    "from time import time\n",
    "\n",
    "\n",
    "#generate random numbers in a big matrix\n",
    "np.random.RandomState(100)\n",
    "arr = np.random.randint(0, 10, size=[200000, 5])\n",
    "data = arr.tolist()\n",
    "data[:10]"
   ]
  },
  {
   "cell_type": "markdown",
   "metadata": {},
   "source": [
    "Now let us find how many number in this matrix are within a given range"
   ]
  },
  {
   "cell_type": "code",
   "execution_count": 23,
   "metadata": {},
   "outputs": [
    {
     "name": "stdout",
     "output_type": "stream",
     "text": [
      "[1, 4, 3, 2, 2, 2, 4, 4, 5, 4]\n"
     ]
    }
   ],
   "source": [
    "def counting_withinrange(row, minimum, maximum):\n",
    "    \"\"\"Returns how many numbers lie within `maximum` and `minimum` in a given `row`\"\"\"\n",
    "    count = 0\n",
    "    for n in row:\n",
    "        if minimum <= n <= maximum:\n",
    "            count = count + 1\n",
    "    return count\n",
    "\n",
    "results = []\n",
    "for row in data:\n",
    "    results.append(counting_withinrange(row, minimum=4, maximum=8))\n",
    "\n",
    "print(results[:10])\n",
    "#> [3, 1, 4, 4, 4, 2, 1, 1, 3, 3]"
   ]
  },
  {
   "cell_type": "markdown",
   "metadata": {},
   "source": [
    "Now we use parallelization, this will be done by applying the function over different set of data in a parallel environment, meaning that they will run over different processors. We will use the pool class. This class has three different methods:  apply(), map() and starmap().\n",
    "\n",
    "In the case of apply and map, they take the function to be parallelized as the main argument. But apply() takes an args argument that accepts the parameters passed to the ‘function-to-be-parallelized’ as an argument, whereas, map can take only one iterable as an argument (map is easier for iterable operations). The starmap() is similar to map() but allows to have different iterable parameters. "
   ]
  },
  {
   "cell_type": "code",
   "execution_count": 24,
   "metadata": {},
   "outputs": [
    {
     "name": "stdout",
     "output_type": "stream",
     "text": [
      "[1, 4, 3, 2, 2, 2, 4, 4, 5, 4]\n"
     ]
    }
   ],
   "source": [
    "#Let us start with apply()\n",
    "import multiprocessing as mp\n",
    "\n",
    "# request how many processors I have available\n",
    "pool = mp.Pool(mp.cpu_count())\n",
    "\n",
    "# `pool.apply` the `counting_withinrange()`\n",
    "results = [pool.apply(counting_withinrange, args=(row, 4, 8)) for row in data]\n",
    "\n",
    "# close (IMPORTANT, otherwise you will have leakage!!)\n",
    "pool.close()    \n",
    "\n",
    "print(results[:10])\n",
    "#> [3, 1, 4, 4, 4, 2, 1, 1, 3, 3]"
   ]
  },
  {
   "cell_type": "code",
   "execution_count": 25,
   "metadata": {},
   "outputs": [
    {
     "name": "stdout",
     "output_type": "stream",
     "text": [
      "[1, 4, 3, 2, 2, 2, 4, 4, 5, 4]\n"
     ]
    }
   ],
   "source": [
    "#Using map()\n",
    "import multiprocessing as mp\n",
    "\n",
    "# We change the function, such we have only ONE parameter.\n",
    "def counting_withinrange(row, minimum=4, maximum=8):\n",
    "    count = 0\n",
    "    for n in row:\n",
    "        if minimum <= n <= maximum:\n",
    "            count = count + 1\n",
    "    return count\n",
    "\n",
    "pool = mp.Pool(mp.cpu_count())\n",
    "\n",
    "results = pool.map(counting_withinrange, [row for row in data])\n",
    "\n",
    "pool.close()\n",
    "\n",
    "print(results[:10])\n",
    "#> [3, 1, 4, 4, 4, 2, 1, 1, 3, 3]"
   ]
  },
  {
   "cell_type": "code",
   "execution_count": 26,
   "metadata": {},
   "outputs": [
    {
     "name": "stdout",
     "output_type": "stream",
     "text": [
      "[1, 4, 3, 2, 2, 2, 4, 4, 5, 4]\n"
     ]
    }
   ],
   "source": [
    "# Using starmap()\n",
    "import multiprocessing as mp\n",
    "\n",
    "pool = mp.Pool(mp.cpu_count())\n",
    "\n",
    "results = pool.starmap(counting_withinrange, [(row, 4, 8) for row in data])\n",
    "\n",
    "pool.close()\n",
    "\n",
    "print(results[:10])\n",
    "#> [3, 1, 4, 4, 4, 2, 1, 1, 3, 3]"
   ]
  },
  {
   "cell_type": "markdown",
   "metadata": {},
   "source": [
    "Up to now, we have discussed the parallelization using multiprocessing. Now, let us use a different library, just to compare how it is used. For this, we have to rely on a different approach. We will use the library mpi4py but this library is easier to be used outside of Jupyter notebooks. For that, I have create a file: examplempi.py in the same directory where the notebooks are stored. This example sent some data from the array numData from processor 0 to processor 1. \n",
    "\n",
    "The file contains the following example, though here we have commented all lines"
   ]
  },
  {
   "cell_type": "code",
   "execution_count": null,
   "metadata": {},
   "outputs": [],
   "source": [
    "##from mpi4py import MPI\n",
    "#import numpy as np\n",
    "\n",
    "#comm = MPI.COMM_WORLD\n",
    "#rank = comm.Get_rank()\n",
    "\n",
    "#if rank == 0:\n",
    "#    # in real code, this section might\n",
    "#    # read in data parameters from a file\n",
    "#    size data that will be sent to another processor\n",
    "#    numData = 10  \n",
    "#    comm.send(numData, dest=1)\n",
    "\n",
    "#    data = np.linspace(0.0,3.14,numData)  \n",
    "#    comm.Send(data, dest=1)\n",
    "\n",
    "#elif rank == 1:\n",
    "\n",
    "#    numData = comm.recv(source=0)\n",
    "#    print('Number of data to receive: ',numData)\n",
    "\n",
    "#    data = np.empty(numData, dtype='d')  # allocate space to receive the array\n",
    "#    comm.Recv(data, source=0)\n",
    "\n",
    "#    print('data received: ',data)"
   ]
  },
  {
   "cell_type": "code",
   "execution_count": 33,
   "metadata": {},
   "outputs": [
    {
     "name": "stdout",
     "output_type": "stream",
     "text": [
      "Number of data to receive:  10\r\n",
      "data received:  [0.         0.34888889 0.69777778 1.04666667 1.39555556 1.74444444\r\n",
      " 2.09333333 2.44222222 2.79111111 3.14      ]\r\n"
     ]
    }
   ],
   "source": [
    "#Then in the command line we will run\n",
    "!mpirun -n 4 python  examplempi.py"
   ]
  },
  {
   "cell_type": "markdown",
   "metadata": {},
   "source": [
    "A very good discussion on how to use mpi4py can be found at https://rabernat.github.io/research_computing/parallel-programming-with-mpi-for-python.html"
   ]
  },
  {
   "cell_type": "code",
   "execution_count": null,
   "metadata": {},
   "outputs": [],
   "source": []
  }
 ],
 "metadata": {
  "kernelspec": {
   "display_name": "Python 3",
   "language": "python",
   "name": "python3"
  },
  "language_info": {
   "codemirror_mode": {
    "name": "ipython",
    "version": 3
   },
   "file_extension": ".py",
   "mimetype": "text/x-python",
   "name": "python",
   "nbconvert_exporter": "python",
   "pygments_lexer": "ipython3",
   "version": "3.7.7"
  }
 },
 "nbformat": 4,
 "nbformat_minor": 2
}
