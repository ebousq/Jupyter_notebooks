{
 "cells": [
  {
   "cell_type": "markdown",
   "metadata": {},
   "source": [
    " <div style=\"clear: both; display: table;\">\n",
    "  <div style=\"border: none; float: left; width: 60%; padding: 5px\">\n",
    "  <h1 id=\"subtitle\">Chapter 2: Python Standard Library</h1>\n",
    "  <h2 id=\"subtitle\">Guillermo Avendaño Franco <br> Aldo Humberto Romero</h2>\n",
    "  <br>\n",
    "  <img src=\"fig/1-line logotype124-295.png\" alt=\"Scientific Computing with Python\" style=\"width:50%\" align=\"left\">\n",
    "  </div>\n",
    "  <div style=\"border: none; float: left; width: 30%; padding: 5px\">\n",
    "  <img src=\"fig/SCPython.png\" alt=\"Scientific Computing with Python\" style=\"width:100%\">\n",
    "  </div>\n",
    "</div>\n",
    "\n",
    "Adapted by **Guillermo Avendaño** (WVU), **Jose Rogan** (Universidad de Chile) and **Aldo Humberto Romero** (WVU) from the [Tutorials for Stanford cs228 and cs231n](https://github.com/kuleshov/cs228-material). A large parte of the info was also built from scratch. In turn, that material was adapted by [Volodymyr Kuleshov](http://web.stanford.edu/~kuleshov/) and [Isaac Caswell](https://symsys.stanford.edu/viewing/symsysaffiliate/21335) from the `CS231n` Python tutorial by Justin Johnson (http://cs231n.github.io/python-numpy-tutorial/).\n",
    "\n",
    "Changes to the original tutorial include strict Python 3 formats and split of the material to fit a series of lessons on Python Programming for WVU's faculty and graduate students.\n",
    "\n",
    "The support of the National Science Foundation and the US Department of Energy under projects: DMREF-NSF 1434897, NSF OAC-1740111 and DOE DE-SC0016176 is recognized.\n",
    "\n",
    "<div style=\"clear: both; display: table;\">\n",
    "<div style=\"border: none; float: left; width: 40%; padding: 10px\">\n",
    "<img src=\"fig/NSF.jpg\" alt=\"National Science Foundation\" style=\"width:50%\" align=\"left\">\n",
    "    </div>\n",
    "    <div style=\"border: none; float: right; width: 40%; padding: 10px\">\n",
    "<img src=\"fig/DOE.jpg\" alt=\"National Science Foundation\" style=\"width:50%\" align=\"right\">\n",
    "</div>"
   ]
  },
  {
   "cell_type": "markdown",
   "metadata": {},
   "source": [
    "## Table of Contents\n",
    "\n",
    "Python is a great general-purpose programming language on its own. \n",
    "This notebook is focused on the Python Standard Library (PSL). \n",
    "Some of these modules are explicitly designed to encourage and enhance the portability of Python programs by abstracting away platform-specifics into platform-neutral APIs.\n",
    "The lesson is particularly oriented to Scientific Computing. The episodes in the series include:\n",
    "\n",
    "  * Python Syntax \n",
    "  * **The Python Standard Library \\[This notebook\\]**\n",
    "  * Numpy\n",
    "  * Matplotlib\n",
    "  * Scipy \n",
    "  * Pandas\n",
    "  * Cython\n",
    "\n",
    "After completing all the series in this lesson you will realize that python has become a powerful environment for scientific computing at several levels, from intereactive computing to scripting to big project developments."
   ]
  },
  {
   "cell_type": "markdown",
   "metadata": {},
   "source": [
    "## Setup"
   ]
  },
  {
   "cell_type": "code",
   "execution_count": 1,
   "metadata": {},
   "outputs": [],
   "source": [
    "%load_ext watermark"
   ]
  },
  {
   "cell_type": "code",
   "execution_count": 2,
   "metadata": {},
   "outputs": [
    {
     "name": "stdout",
     "output_type": "stream",
     "text": [
      "2019-09-16T08:43:48-04:00\n",
      "\n",
      "CPython 3.7.4\n",
      "IPython 7.6.1\n",
      "\n",
      "compiler   : Clang 10.0.1 (clang-1001.0.46.4)\n",
      "system     : Darwin\n",
      "release    : 18.7.0\n",
      "machine    : x86_64\n",
      "processor  : i386\n",
      "CPU cores  : 8\n",
      "interpreter: 64bit\n"
     ]
    }
   ],
   "source": [
    "%watermark"
   ]
  },
  {
   "cell_type": "markdown",
   "metadata": {},
   "source": [
    "# Introduction\n",
    "\n",
    "In this tutorial, we will cover the following modules in the Python Standard Library\n",
    "\n",
    "* sys\n",
    "* math and cmath\n",
    "* os and os.path\n",
    "* shutil\n",
    "* itertools\n",
    "* json\n",
    "* subprocess\n",
    "* multiprocessing\n"
   ]
  },
  {
   "cell_type": "markdown",
   "metadata": {},
   "source": [
    "The Python Standard Library (PSL) is a set of modules distributed with Python and they are included on most Python implementations. With some very specific exceptions, you can take for granted that on every machine capable of running Python code will have those modules available too. \n",
    "\n",
    "The Python’s standard library is very extensive. The library contains built-in modules (written in C) that provide access to system functionality such as file I/O that would otherwise be inaccessible to Python programmers, as well as modules written in Python that provide standardized solutions for many problems that occur in everyday programming. The idea we are trying to use here is that the existence of some modules will help with the simplicity of the program and they will allow also portability between different systems. Basically, Python is trying to create a natural neutral platform for application programming interfaces (APIs). \n",
    "\n",
    "Here we are making a selection of a few modules that are commonly used in Scientific Computing. The selection itself is rather subjective but from experience most users using Python for research, specially numerical oriented calculations will use at some point several of these modules. \n",
    "\n",
    "The complete documentation about these modules can be found [here](https://docs.python.org/3/library/index.html)"
   ]
  },
  {
   "cell_type": "markdown",
   "metadata": {},
   "source": [
    "# sys"
   ]
  },
  {
   "cell_type": "markdown",
   "metadata": {},
   "source": [
    "This module provides access to some variables used or maintained by the interpreter and to functions that interact strongly with the interpreter. It is always available. More info can be found in [sys](https://docs.python.org/3/library/sys.html) "
   ]
  },
  {
   "cell_type": "code",
   "execution_count": 3,
   "metadata": {},
   "outputs": [],
   "source": [
    "import sys"
   ]
  },
  {
   "cell_type": "markdown",
   "metadata": {},
   "source": [
    "There are a few reason to include this module in the selection, consider getting the version of Python that in use:"
   ]
  },
  {
   "cell_type": "code",
   "execution_count": 4,
   "metadata": {},
   "outputs": [
    {
     "data": {
      "text/plain": [
       "'3.7.4 (default, Jul 11 2019, 01:08:00) \\n[Clang 10.0.1 (clang-1001.0.46.4)]'"
      ]
     },
     "execution_count": 4,
     "metadata": {},
     "output_type": "execute_result"
    }
   ],
   "source": [
    "sys.version"
   ]
  },
  {
   "cell_type": "code",
   "execution_count": 5,
   "metadata": {},
   "outputs": [
    {
     "data": {
      "text/plain": [
       "sys.version_info(major=3, minor=7, micro=4, releaselevel='final', serial=0)"
      ]
     },
     "execution_count": 5,
     "metadata": {},
     "output_type": "execute_result"
    }
   ],
   "source": [
    "sys.version_info"
   ]
  },
  {
   "cell_type": "markdown",
   "metadata": {},
   "source": [
    "To know information about the limits of float type. `sys.float_info` contains low level information about the precision and internal representation. The values correspond to the various floating-point constants defined in the standard header file float.h for the ‘C’ programming language; see section 5.2.4.2.2 of the 1999 ISO/IEC C standard [C99], ‘Characteristics of floating types’, for details."
   ]
  },
  {
   "cell_type": "code",
   "execution_count": 6,
   "metadata": {},
   "outputs": [
    {
     "data": {
      "text/plain": [
       "sys.float_info(max=1.7976931348623157e+308, max_exp=1024, max_10_exp=308, min=2.2250738585072014e-308, min_exp=-1021, min_10_exp=-307, dig=15, mant_dig=53, epsilon=2.220446049250313e-16, radix=2, rounds=1)"
      ]
     },
     "execution_count": 6,
     "metadata": {},
     "output_type": "execute_result"
    }
   ],
   "source": [
    "sys.float_info"
   ]
  },
  {
   "cell_type": "markdown",
   "metadata": {},
   "source": [
    "Each value can be retrieved independently like"
   ]
  },
  {
   "cell_type": "code",
   "execution_count": 7,
   "metadata": {},
   "outputs": [
    {
     "data": {
      "text/plain": [
       "1.7976931348623157e+308"
      ]
     },
     "execution_count": 7,
     "metadata": {},
     "output_type": "execute_result"
    }
   ],
   "source": [
    "sys.float_info.max"
   ]
  },
  {
   "cell_type": "markdown",
   "metadata": {},
   "source": [
    "Similarly for integers:"
   ]
  },
  {
   "cell_type": "code",
   "execution_count": 8,
   "metadata": {},
   "outputs": [
    {
     "data": {
      "text/plain": [
       "sys.int_info(bits_per_digit=30, sizeof_digit=4)"
      ]
     },
     "execution_count": 8,
     "metadata": {},
     "output_type": "execute_result"
    }
   ],
   "source": [
    "sys.int_info"
   ]
  },
  {
   "cell_type": "markdown",
   "metadata": {},
   "source": [
    "To get the size of any object in bytes:"
   ]
  },
  {
   "cell_type": "code",
   "execution_count": 9,
   "metadata": {},
   "outputs": [
    {
     "data": {
      "text/plain": [
       "9120"
      ]
     },
     "execution_count": 9,
     "metadata": {},
     "output_type": "execute_result"
    }
   ],
   "source": [
    "a=list(range(1000))\n",
    "sys.getsizeof(a)"
   ]
  },
  {
   "cell_type": "code",
   "execution_count": 10,
   "metadata": {},
   "outputs": [
    {
     "data": {
      "text/plain": [
       "48"
      ]
     },
     "execution_count": 10,
     "metadata": {},
     "output_type": "execute_result"
    }
   ],
   "source": [
    "b=range(1000)\n",
    "sys.getsizeof(b)"
   ]
  },
  {
   "cell_type": "markdown",
   "metadata": {},
   "source": [
    "By itself, the builtin function sys.getsizeof() is not helpful determining the size of a container (a given object) and all of its contents, but can be used with a recipe like [this](https://code.activestate.com/recipes/577504/) to recursively collect the contents of a container."
   ]
  },
  {
   "cell_type": "markdown",
   "metadata": {},
   "source": [
    "To know the paths to search for modules"
   ]
  },
  {
   "cell_type": "code",
   "execution_count": 11,
   "metadata": {},
   "outputs": [
    {
     "data": {
      "text/plain": [
       "['/Users/aldoromero/Class/PythonIntroduction/intro_python',\n",
       " '/Users/aldoromero/Class/PythonIntroduction/intro_python',\n",
       " '/Users/aldoromero/Python/TSASE/tsase',\n",
       " '/Users/aldoromero/Python/ase/3.11.0/ase',\n",
       " '/Users/aldoromero/MiguelMarques/ase',\n",
       " '/Applications/vtkpython/bin/vtk/opt/local/Library/Frameworks/Python.framework/Versions/3.7/lib',\n",
       " '/opt/local/Library/Frameworks/Python.framework/Versions/3.7/lib/python37.zip',\n",
       " '/opt/local/Library/Frameworks/Python.framework/Versions/3.7/lib/python3.7',\n",
       " '/opt/local/Library/Frameworks/Python.framework/Versions/3.7/lib/python3.7/lib-dynload',\n",
       " '',\n",
       " '/Users/aldoromero/Library/Python/3.7/lib/python/site-packages',\n",
       " '/opt/local/Library/Frameworks/Python.framework/Versions/3.7/lib/python3.7/site-packages',\n",
       " '/opt/local/Library/Frameworks/Python.framework/Versions/3.7/lib/python3.7/site-packages/pymatgen-2019.1.24-py3.7-macosx-10.14-x86_64.egg',\n",
       " '/opt/local/Library/Frameworks/Python.framework/Versions/3.7/lib/python3.7/site-packages/sympy-1.3-py3.7.egg',\n",
       " '/opt/local/Library/Frameworks/Python.framework/Versions/3.7/lib/python3.7/site-packages/palettable-3.1.1-py3.7.egg',\n",
       " '/opt/local/Library/Frameworks/Python.framework/Versions/3.7/lib/python3.7/site-packages/networkx-2.2-py3.7.egg',\n",
       " '/opt/local/Library/Frameworks/Python.framework/Versions/3.7/lib/python3.7/site-packages/tabulate-0.8.2-py3.7.egg',\n",
       " '/opt/local/Library/Frameworks/Python.framework/Versions/3.7/lib/python3.7/site-packages/PyDispatcher-2.0.5-py3.7.egg',\n",
       " '/opt/local/Library/Frameworks/Python.framework/Versions/3.7/lib/python3.7/site-packages/monty-1.0.5-py3.7.egg',\n",
       " '/opt/local/Library/Frameworks/Python.framework/Versions/3.7/lib/python3.7/site-packages/ruamel.yaml-0.15.87-py3.7-macosx-10.14-x86_64.egg',\n",
       " '/opt/local/Library/Frameworks/Python.framework/Versions/3.7/lib/python3.7/site-packages/requests-2.21.0-py3.7.egg',\n",
       " '/opt/local/Library/Frameworks/Python.framework/Versions/3.7/lib/python3.7/site-packages/mpmath-1.1.0-py3.7.egg',\n",
       " '/opt/local/Library/Frameworks/Python.framework/Versions/3.7/lib/python3.7/site-packages/urllib3-1.24.1-py3.7.egg',\n",
       " '/opt/local/Library/Frameworks/Python.framework/Versions/3.7/lib/python3.7/site-packages/idna-2.8-py3.7.egg',\n",
       " '/opt/local/Library/Frameworks/Python.framework/Versions/3.7/lib/python3.7/site-packages/certifi-2018.11.29-py3.7.egg',\n",
       " '/opt/local/Library/Frameworks/Python.framework/Versions/3.7/lib/python3.7/site-packages/Flask-1.0.2-py3.7.egg',\n",
       " '/opt/local/Library/Frameworks/Python.framework/Versions/3.7/lib/python3.7/site-packages/itsdangerous-1.1.0-py3.7.egg',\n",
       " '/opt/local/Library/Frameworks/Python.framework/Versions/3.7/lib/python3.7/site-packages/Click-7.0-py3.7.egg',\n",
       " '/opt/local/Library/Frameworks/Python.framework/Versions/3.7/lib/python3.7/site-packages/Werkzeug-0.14.1-py3.7.egg',\n",
       " '/opt/local/Library/Frameworks/Python.framework/Versions/3.7/lib/python3.7/site-packages/Jinja2-2.10-py3.7.egg',\n",
       " '/opt/local/Library/Frameworks/Python.framework/Versions/3.7/lib/python3.7/site-packages/MarkupSafe-1.1.0-py3.7-macosx-10.14-x86_64.egg',\n",
       " '/opt/local/Library/Frameworks/Python.framework/Versions/3.7/lib/python3.7/site-packages/h5py-2.9.0-py3.7-macosx-10.14-x86_64.egg',\n",
       " '/opt/local/Library/Frameworks/Python.framework/Versions/3.7/lib/python3.7/site-packages/PyYAML-4.2b4-py3.7-macosx-10.14-x86_64.egg',\n",
       " '/opt/local/Library/Frameworks/Python.framework/Versions/3.7/lib/python3.7/site-packages/tethne-0.8-py3.7.egg',\n",
       " '/opt/local/Library/Frameworks/Python.framework/Versions/3.7/lib/python3.7/site-packages/nltk-3.4-py3.7.egg',\n",
       " '/opt/local/Library/Frameworks/Python.framework/Versions/3.7/lib/python3.7/site-packages/Unidecode-0.4.17-py3.7.egg',\n",
       " '/opt/local/Library/Frameworks/Python.framework/Versions/3.7/lib/python3.7/site-packages/slate-0.3-py3.7.egg',\n",
       " '/opt/local/Library/Frameworks/Python.framework/Versions/3.7/lib/python3.7/site-packages/python_magic-0.4.6-py3.7.egg',\n",
       " '/opt/local/Library/Frameworks/Python.framework/Versions/3.7/lib/python3.7/site-packages/pdfminer3k-1.3.1-py3.7.egg',\n",
       " '/opt/local/Library/Frameworks/Python.framework/Versions/3.7/lib/python3.7/site-packages/pdfdocument-3.3-py3.7.egg',\n",
       " '/opt/local/Library/Frameworks/Python.framework/Versions/3.7/lib/python3.7/site-packages/isodate-0.6.0-py3.7.egg',\n",
       " '/opt/local/Library/Frameworks/Python.framework/Versions/3.7/lib/python3.7/site-packages/html5lib-1.0.1-py3.7.egg',\n",
       " '/opt/local/Library/Frameworks/Python.framework/Versions/3.7/lib/python3.7/site-packages/rdflib-4.2.2-py3.7.egg',\n",
       " '/opt/local/Library/Frameworks/Python.framework/Versions/3.7/lib/python3.7/site-packages/iso8601-0.1.12-py3.7.egg',\n",
       " '/opt/local/Library/Frameworks/Python.framework/Versions/3.7/lib/python3.7/site-packages/singledispatch-3.4.0.3-py3.7.egg',\n",
       " '/opt/local/Library/Frameworks/Python.framework/Versions/3.7/lib/python3.7/site-packages/distribute-0.7.3-py3.7.egg',\n",
       " '/opt/local/Library/Frameworks/Python.framework/Versions/3.7/lib/python3.7/site-packages/ply-3.11-py3.7.egg',\n",
       " '/opt/local/Library/Frameworks/Python.framework/Versions/3.7/lib/python3.7/site-packages/pytest-4.3.1-py3.7.egg',\n",
       " '/opt/local/Library/Frameworks/Python.framework/Versions/3.7/lib/python3.7/site-packages/webencodings-0.5.1-py3.7.egg',\n",
       " '/opt/local/Library/Frameworks/Python.framework/Versions/3.7/lib/python3.7/site-packages/py-1.8.0-py3.7.egg',\n",
       " '/opt/local/Library/Frameworks/Python.framework/Versions/3.7/lib/python3.7/site-packages/pluggy-0.9.0-py3.7.egg',\n",
       " '/opt/local/Library/Frameworks/Python.framework/Versions/3.7/lib/python3.7/site-packages/more_itertools-6.0.0-py3.7.egg',\n",
       " '/opt/local/Library/Frameworks/Python.framework/Versions/3.7/lib/python3.7/site-packages/attrs-19.1.0-py3.7.egg',\n",
       " '/opt/local/Library/Frameworks/Python.framework/Versions/3.7/lib/python3.7/site-packages/atomicwrites-1.3.0-py3.7.egg',\n",
       " '/opt/local/Library/Frameworks/Python.framework/Versions/3.7/lib/python3.7/site-packages/CatLearn-0.6.0-py3.7.egg',\n",
       " '/opt/local/Library/Frameworks/Python.framework/Versions/3.7/lib/python3.7/site-packages/tqdm-4.31.1-py3.7.egg',\n",
       " '/opt/local/Library/Frameworks/Python.framework/Versions/3.7/lib/python3.7/site-packages/psutil-5.6.1-py3.7-macosx-10.14-x86_64.egg',\n",
       " '/opt/local/Library/Frameworks/Python.framework/Versions/3.7/lib/python3.7/site-packages/ase-3.17.0-py3.7.egg',\n",
       " '/opt/local/Library/Frameworks/Python.framework/Versions/3.7/lib/python3.7/site-packages/watermark-1.8.2-py3.7.egg',\n",
       " '/opt/local/Library/Frameworks/Python.framework/Versions/3.7/lib/python3.7/site-packages/phonopy-2.2.0-py3.7-macosx-10.14-x86_64.egg',\n",
       " '/opt/local/Library/Frameworks/Python.framework/Versions/3.7/lib/python3.7/site-packages/seekpath-1.9.3-py3.7.egg',\n",
       " '/opt/local/Library/Frameworks/Python.framework/Versions/3.7/lib/python3.7/site-packages/future-0.17.1-py3.7.egg',\n",
       " '/opt/local/Library/Frameworks/Python.framework/Versions/3.7/lib/python3.7/site-packages/spglib-1.14.1.post0-py3.7-macosx-10.14-x86_64.egg',\n",
       " '/opt/local/Library/Frameworks/Python.framework/Versions/3.7/lib/python3.7/site-packages/scikit_image-0.16.dev0-py3.7-macosx-10.14-x86_64.egg',\n",
       " '/opt/local/Library/Frameworks/Python.framework/Versions/3.7/lib/python3.7/site-packages/PyWavelets-1.0.3-py3.7-macosx-10.14-x86_64.egg',\n",
       " '/opt/local/Library/Frameworks/Python.framework/Versions/3.7/lib/python3.7/site-packages/imageio-2.5.0-py3.7.egg',\n",
       " '/opt/local/Library/Frameworks/Python.framework/Versions/3.7/lib/python3.7/site-packages/IPython/extensions',\n",
       " '/Users/aldoromero/.ipython']"
      ]
     },
     "execution_count": 11,
     "metadata": {},
     "output_type": "execute_result"
    }
   ],
   "source": [
    "sys.path"
   ]
  },
  {
   "cell_type": "markdown",
   "metadata": {},
   "source": [
    "Prefix path where the current version of Python in use:"
   ]
  },
  {
   "cell_type": "code",
   "execution_count": 12,
   "metadata": {},
   "outputs": [
    {
     "data": {
      "text/plain": [
       "'/opt/local/Library/Frameworks/Python.framework/Versions/3.7'"
      ]
     },
     "execution_count": 12,
     "metadata": {},
     "output_type": "execute_result"
    }
   ],
   "source": [
    "sys.prefix"
   ]
  },
  {
   "cell_type": "markdown",
   "metadata": {},
   "source": [
    "To collect arguments such as\n",
    "\n",
    "myscript.py arg1 arg2 arg3\n",
    "    \n",
    "from the command line `sys.argv` can be used, in particular for scripts."
   ]
  },
  {
   "cell_type": "code",
   "execution_count": 13,
   "metadata": {},
   "outputs": [
    {
     "data": {
      "text/plain": [
       "['/opt/local/Library/Frameworks/Python.framework/Versions/3.7/lib/python3.7/site-packages/ipykernel_launcher.py',\n",
       " '-f',\n",
       " '/Users/aldoromero/Library/Jupyter/runtime/kernel-faaf64e3-f8ea-47df-8db2-666418579375.json']"
      ]
     },
     "execution_count": 13,
     "metadata": {},
     "output_type": "execute_result"
    }
   ],
   "source": [
    "sys.argv"
   ]
  },
  {
   "cell_type": "markdown",
   "metadata": {},
   "source": [
    "\n",
    "However, `sys.argv` is very primitive for practical purposes. The module `argparse` is the recommended module to parse arguments from command line."
   ]
  },
  {
   "cell_type": "markdown",
   "metadata": {},
   "source": [
    "# math and cmath"
   ]
  },
  {
   "cell_type": "markdown",
   "metadata": {},
   "source": [
    "This module provides access to the mathematical functions defined by the C standard. The similar module for complex numbers is `cmath`"
   ]
  },
  {
   "cell_type": "code",
   "execution_count": 14,
   "metadata": {},
   "outputs": [],
   "source": [
    "import math\n",
    "import cmath"
   ]
  },
  {
   "cell_type": "markdown",
   "metadata": {},
   "source": [
    "The arguments for the functions in `math` and `cmath` must be numbers. As we will see on the lesson for `numpy` when the functions have to operate over multiple numbers the functions on `numpy` are a far more efficient alternative and avoid expensive loops over list or other low performance containers.\n",
    "\n",
    "A few functions are shown as examples:"
   ]
  },
  {
   "cell_type": "markdown",
   "metadata": {},
   "source": [
    "## math"
   ]
  },
  {
   "cell_type": "code",
   "execution_count": 15,
   "metadata": {},
   "outputs": [
    {
     "data": {
      "text/plain": [
       "3"
      ]
     },
     "execution_count": 15,
     "metadata": {},
     "output_type": "execute_result"
    }
   ],
   "source": [
    "math.ceil(2.5)"
   ]
  },
  {
   "cell_type": "code",
   "execution_count": 16,
   "metadata": {},
   "outputs": [
    {
     "data": {
      "text/plain": [
       "3.7"
      ]
     },
     "execution_count": 16,
     "metadata": {},
     "output_type": "execute_result"
    }
   ],
   "source": [
    "math.fabs(-3.7)"
   ]
  },
  {
   "cell_type": "markdown",
   "metadata": {},
   "source": [
    "`fabs` only works for real numbers and returns always a float even if the argument is integer.\n",
    "In the case of complex numbers the built-in `abs()` returns the magnitude of the complex number"
   ]
  },
  {
   "cell_type": "code",
   "execution_count": 17,
   "metadata": {},
   "outputs": [
    {
     "data": {
      "text/plain": [
       "4.810405388322278"
      ]
     },
     "execution_count": 17,
     "metadata": {},
     "output_type": "execute_result"
    }
   ],
   "source": [
    "abs(-1.7+4.5j)"
   ]
  },
  {
   "cell_type": "markdown",
   "metadata": {},
   "source": [
    "GCD stands for Greatest Common Divisor of the integers a and b."
   ]
  },
  {
   "cell_type": "code",
   "execution_count": 18,
   "metadata": {},
   "outputs": [
    {
     "data": {
      "text/plain": [
       "7"
      ]
     },
     "execution_count": 18,
     "metadata": {},
     "output_type": "execute_result"
    }
   ],
   "source": [
    "math.gcd(91, 133)"
   ]
  },
  {
   "cell_type": "code",
   "execution_count": 19,
   "metadata": {},
   "outputs": [
    {
     "data": {
      "text/plain": [
       "16.0"
      ]
     },
     "execution_count": 19,
     "metadata": {},
     "output_type": "execute_result"
    }
   ],
   "source": [
    "math.sqrt(256)"
   ]
  },
  {
   "cell_type": "code",
   "execution_count": 20,
   "metadata": {},
   "outputs": [
    {
     "data": {
      "text/plain": [
       "0.5000000000000001"
      ]
     },
     "execution_count": 20,
     "metadata": {},
     "output_type": "execute_result"
    }
   ],
   "source": [
    "math.cos(math.pi/3)"
   ]
  },
  {
   "cell_type": "markdown",
   "metadata": {},
   "source": [
    "## cmath"
   ]
  },
  {
   "cell_type": "code",
   "execution_count": 21,
   "metadata": {},
   "outputs": [
    {
     "data": {
      "text/plain": [
       "16j"
      ]
     },
     "execution_count": 21,
     "metadata": {},
     "output_type": "execute_result"
    }
   ],
   "source": [
    "cmath.sqrt(-256)"
   ]
  },
  {
   "cell_type": "code",
   "execution_count": 22,
   "metadata": {},
   "outputs": [
    {
     "data": {
      "text/plain": [
       "(1.600286857702386-0j)"
      ]
     },
     "execution_count": 22,
     "metadata": {},
     "output_type": "execute_result"
    }
   ],
   "source": [
    "cmath.cos(1j*math.pi/3)"
   ]
  },
  {
   "cell_type": "markdown",
   "metadata": {},
   "source": [
    "# os and os.path"
   ]
  },
  {
   "cell_type": "markdown",
   "metadata": {},
   "source": [
    "Sooner or later you will interact with files and folders. The module os not only provides basic operativity over the filesystem but also allow us to gain information about the operating system that is executing Python"
   ]
  },
  {
   "cell_type": "markdown",
   "metadata": {},
   "source": [
    "## os"
   ]
  },
  {
   "cell_type": "code",
   "execution_count": 23,
   "metadata": {},
   "outputs": [],
   "source": [
    "import os"
   ]
  },
  {
   "cell_type": "markdown",
   "metadata": {},
   "source": [
    "The module os, provides operating system dependent functionality. Some functions are not available in some Operating Systems returning `os.OSError` in those cases."
   ]
  },
  {
   "cell_type": "code",
   "execution_count": 24,
   "metadata": {},
   "outputs": [
    {
     "data": {
      "text/plain": [
       "'posix'"
      ]
     },
     "execution_count": 24,
     "metadata": {},
     "output_type": "execute_result"
    }
   ],
   "source": [
    "os.name"
   ]
  },
  {
   "cell_type": "code",
   "execution_count": 25,
   "metadata": {},
   "outputs": [
    {
     "data": {
      "text/plain": [
       "environ{'MANPATH': '/opt/local/share/man:/usr/local/opt/gnu-sed/libexec/gnuman:',\n",
       "        'TERM_PROGRAM': 'Apple_Terminal',\n",
       "        'TERM': 'xterm-color',\n",
       "        'SHELL': '/bin/bash',\n",
       "        'BINDIR': '/opt/local/bin',\n",
       "        'TMPDIR': '/var/folders/sd/7rq2vwcx7fd8stfzsvfnz9980000gq/T/',\n",
       "        'INCLUDEDIR': '/opt/local/include/p4vasp',\n",
       "        'Apple_PubSub_Socket_Render': '/private/tmp/com.apple.launchd.Yv9OTEQLBw/Render',\n",
       "        'DFTB_COMMAND': '/Users/aldoromero/DFTB+/dftb+_1.2.2/dftb+_1.2.2_src/prg_dftb/_obj_macos/dftb+',\n",
       "        'TERM_PROGRAM_VERSION': '421.2',\n",
       "        'MKDIR_P': '/bin/mkdir -p',\n",
       "        'OLDPWD': '/Users/aldoromero/Class/PythonIntroduction',\n",
       "        'TERM_SESSION_ID': '795FDCCE-41B0-4041-87AD-86EEE2D96F27',\n",
       "        'LC_ALL': 'en_US.UTF-8',\n",
       "        'P4VASP_HOME': '/opt/local/lib/p4vasp',\n",
       "        'USER': 'aldoromero',\n",
       "        'LD_LIBRARY_PATH': ':/Applications/vtkpython/lib:/usr/local/lib',\n",
       "        'ASE_TAGS': 'https://svn.fysik.dtu.dk/projects/ase/tags/',\n",
       "        'ABINIT_PP_PATH': '/Users/aldoromero/Abinit/Pseudopotentials/GGA_PAW:/Users/aldoromero/Abinit/Pseudopotentials/GGA_HGHK:/Users/aldoromero/Abinit/Pseudopotentials/GGA_FHI:/Users/aldoromero/Abinit/Pseudopotentials/LDA_TM:/Users/aldoromero/Abinit/Pseudopotentials/LDA_PAW:/Users/aldoromero/Abinit/Pseudopotentials/LDA_HGH:/Users/aldoromero/Abinit/Pseudopotentials/GGA_FHI:/Users/aldoromero/Abinit/Pseudopotentials/LDA_FHI',\n",
       "        'SSH_AUTH_SOCK': '/private/tmp/com.apple.launchd.A26H8iQkmm/Listeners',\n",
       "        'GPAW_SETUP_PATH': '/Users/aldoromero/GPAW/gpaw-setups-0.9.11271',\n",
       "        'LIBDIR': '/opt/local/lib/p4vasp',\n",
       "        'PATH': '/opt/local/libexec/gnubin/:/opt/local/bin:/opt/local/sbin:/usr/local/bin:/usr/bin:/bin:/usr/sbin:/sbin:/Library/TeX/texbin:/opt/X11/bin:/opt/local/Library/Frameworks/Python.framework/Versions/3.7/bin:/Users/aldoromero/tsase/tsase/bin:/Library/TeX/Distributions/.DefaultTeX/Contents/Programs/texbin:/Users/aldoromero/Vasp/Olle/tdep-devel/bin:/Users/aldoromero/Vasp/SOD/sod/bin/',\n",
       "        'MAPI_KEY': 'cwlbQ7fOT9CIWguq',\n",
       "        'C_INCLUDE_PATH': ':/usr/include:usr/local/include:',\n",
       "        'PWD': '/Users/aldoromero/Class/PythonIntroduction/intro_python',\n",
       "        'LANG': 'en_US.UTF-8',\n",
       "        'DFTB_PREFIX': '/Users/aldoromero/DFTB+/Parameters/mio-1-1/',\n",
       "        'XPC_FLAGS': '0x0',\n",
       "        'XPC_SERVICE_NAME': '0',\n",
       "        'HOME': '/Users/aldoromero',\n",
       "        'SHLVL': '1',\n",
       "        'LANGUAGE': 'en_US:en',\n",
       "        'XBANDPATH': '/Users/aldoromero/SPRKK/xband',\n",
       "        'PYTHONPATH': ':/Users/aldoromero/Python/TSASE/tsase/:/Users/aldoromero/Python/ase/3.11.0/ase:/Users/aldoromero/MiguelMarques/ase:/Applications/vtkpython/bin/vtk/opt/local/Library/Frameworks/Python.framework/Versions/3.7/lib',\n",
       "        'LOGNAME': 'aldoromero',\n",
       "        'LC_CTYPE': 'en_US.UTF-8',\n",
       "        'SITE_PACKAGES': '/opt/local/lib/python2.7/site-packages/p4vasp/',\n",
       "        'ARCHFLAGS': '-arch x86_64',\n",
       "        'DISPLAY': '/private/tmp/com.apple.launchd.1UtVkonJK2/org.macosforge.xquartz:0',\n",
       "        'ASE_ABINIT_COMMAND': 'abinit < PREFIX.files > PREFIX.log',\n",
       "        'SECURITYSESSIONID': '186a8',\n",
       "        '_': '/opt/local/bin/jupyter-notebook-3.7',\n",
       "        '__CF_USER_TEXT_ENCODING': '0x1F7:0x0:0x0',\n",
       "        '__PYVENV_LAUNCHER__': '/opt/local/Library/Frameworks/Python.framework/Versions/3.7/bin/python3.7',\n",
       "        'JPY_PARENT_PID': '85140',\n",
       "        'CLICOLOR': '1',\n",
       "        'PAGER': 'cat',\n",
       "        'GIT_PAGER': 'cat',\n",
       "        'MPLBACKEND': 'module://ipykernel.pylab.backend_inline'}"
      ]
     },
     "execution_count": 25,
     "metadata": {},
     "output_type": "execute_result"
    }
   ],
   "source": [
    "os.environ"
   ]
  },
  {
   "cell_type": "markdown",
   "metadata": {},
   "source": [
    "Individual environment variables can be retrived"
   ]
  },
  {
   "cell_type": "code",
   "execution_count": 26,
   "metadata": {},
   "outputs": [
    {
     "data": {
      "text/plain": [
       "'aldoromero'"
      ]
     },
     "execution_count": 26,
     "metadata": {},
     "output_type": "execute_result"
    }
   ],
   "source": [
    "os.getenv('USER')"
   ]
  },
  {
   "cell_type": "markdown",
   "metadata": {},
   "source": [
    "A couple of functions reproduce the effect of a few commands in Unix/Linux like `pwd`, `cd` and `mkdir`"
   ]
  },
  {
   "cell_type": "code",
   "execution_count": 27,
   "metadata": {},
   "outputs": [
    {
     "data": {
      "text/plain": [
       "'/Users/aldoromero/Class/PythonIntroduction/intro_python'"
      ]
     },
     "execution_count": 27,
     "metadata": {},
     "output_type": "execute_result"
    }
   ],
   "source": [
    "# Equivalent to pwd\n",
    "os.getcwd()"
   ]
  },
  {
   "cell_type": "code",
   "execution_count": 28,
   "metadata": {},
   "outputs": [],
   "source": [
    "# Equivalent to mkdir\n",
    "if not os.path.exists('test_folder'):\n",
    "    os.mkdir('test_folder')"
   ]
  },
  {
   "cell_type": "code",
   "execution_count": 29,
   "metadata": {},
   "outputs": [],
   "source": [
    "# Equivalent to cd\n",
    "os.chdir('test_folder')\n",
    "os.chdir('..')"
   ]
  },
  {
   "cell_type": "code",
   "execution_count": 30,
   "metadata": {},
   "outputs": [
    {
     "data": {
      "text/plain": [
       "[]"
      ]
     },
     "execution_count": 30,
     "metadata": {},
     "output_type": "execute_result"
    }
   ],
   "source": [
    "# Equivalent to ls\n",
    "os.listdir(\"test_folder\")"
   ]
  },
  {
   "cell_type": "code",
   "execution_count": 31,
   "metadata": {},
   "outputs": [],
   "source": [
    "# Equivalent to rmdir\n",
    "os.rmdir('test_folder')"
   ]
  },
  {
   "cell_type": "markdown",
   "metadata": {},
   "source": [
    "These functions are useful in HPC to determine the number of cores on a machine"
   ]
  },
  {
   "cell_type": "code",
   "execution_count": 32,
   "metadata": {},
   "outputs": [
    {
     "data": {
      "text/plain": [
       "8"
      ]
     },
     "execution_count": 32,
     "metadata": {},
     "output_type": "execute_result"
    }
   ],
   "source": [
    "os.cpu_count()"
   ]
  },
  {
   "cell_type": "markdown",
   "metadata": {},
   "source": [
    "The `os` module is particularly extense and the functions above are just a tiny fraction of all the commands available. It is always better to use commands like `os.mkdir()` than using external calls to system commands.\n",
    "A bad program habit is using for example:"
   ]
  },
  {
   "cell_type": "code",
   "execution_count": 33,
   "metadata": {},
   "outputs": [
    {
     "data": {
      "text/plain": [
       "0"
      ]
     },
     "execution_count": 33,
     "metadata": {},
     "output_type": "execute_result"
    }
   ],
   "source": [
    "os.system(\"mkdir test_folder\")"
   ]
  },
  {
   "cell_type": "markdown",
   "metadata": {},
   "source": [
    "This command, not only makes the code non portable (will not work in Windows) but also on Unix systems is creating a subshell for a function that can be executed using `os.mkdir()`"
   ]
  },
  {
   "cell_type": "markdown",
   "metadata": {},
   "source": [
    "## os.path"
   ]
  },
  {
   "cell_type": "markdown",
   "metadata": {},
   "source": [
    "This module implements some useful functions on pathnames. For checking the existance of a file or folder or spliting the filename from the full path"
   ]
  },
  {
   "cell_type": "code",
   "execution_count": 34,
   "metadata": {},
   "outputs": [],
   "source": [
    "import os.path"
   ]
  },
  {
   "cell_type": "markdown",
   "metadata": {},
   "source": [
    "To know if a file or folder exists:"
   ]
  },
  {
   "cell_type": "code",
   "execution_count": 35,
   "metadata": {},
   "outputs": [],
   "source": [
    "if not os.path.exists('test_folder'):\n",
    "    os.mkdir('test_folder')"
   ]
  },
  {
   "cell_type": "code",
   "execution_count": 36,
   "metadata": {},
   "outputs": [
    {
     "data": {
      "text/plain": [
       "False"
      ]
     },
     "execution_count": 36,
     "metadata": {},
     "output_type": "execute_result"
    }
   ],
   "source": [
    "os.path.isfile('test_folder')"
   ]
  },
  {
   "cell_type": "code",
   "execution_count": 37,
   "metadata": {},
   "outputs": [
    {
     "data": {
      "text/plain": [
       "True"
      ]
     },
     "execution_count": 37,
     "metadata": {},
     "output_type": "execute_result"
    }
   ],
   "source": [
    "os.path.isdir('test_folder')"
   ]
  },
  {
   "cell_type": "code",
   "execution_count": 38,
   "metadata": {},
   "outputs": [
    {
     "name": "stdout",
     "output_type": "stream",
     "text": [
      "/Users/aldoromero/Class/PythonIntroduction/intro_python/test_folder\n"
     ]
    }
   ],
   "source": [
    "fullpath=os.path.abspath('test_folder')\n",
    "print(fullpath)"
   ]
  },
  {
   "cell_type": "code",
   "execution_count": 39,
   "metadata": {},
   "outputs": [
    {
     "data": {
      "text/plain": [
       "('/Users/aldoromero/Class/PythonIntroduction/intro_python', 'test_folder')"
      ]
     },
     "execution_count": 39,
     "metadata": {},
     "output_type": "execute_result"
    }
   ],
   "source": [
    "os.path.split(fullpath)"
   ]
  },
  {
   "cell_type": "markdown",
   "metadata": {},
   "source": [
    "This function splits a path in two components (head, tail) where tail is the last pathname component and head is everything leading up to that. The tail part will never contain a slash; if path ends in a slash, tail will be empty.\n",
    "\n",
    "It is useful to separate the filename from the path to that file."
   ]
  },
  {
   "cell_type": "markdown",
   "metadata": {},
   "source": [
    "# shutil"
   ]
  },
  {
   "cell_type": "markdown",
   "metadata": {},
   "source": [
    "For high level operations on one or more files. Most functions in `shutil` support file copying and removal of multiple files from a single call. These functions are more efficient that creating loops and operate over the files individually."
   ]
  },
  {
   "cell_type": "code",
   "execution_count": 40,
   "metadata": {},
   "outputs": [],
   "source": [
    "import shutil"
   ]
  },
  {
   "cell_type": "code",
   "execution_count": 41,
   "metadata": {},
   "outputs": [
    {
     "data": {
      "text/plain": [
       "'test_folder/newfile1'"
      ]
     },
     "execution_count": 41,
     "metadata": {},
     "output_type": "execute_result"
    }
   ],
   "source": [
    "wf=open('newfile1','w')\n",
    "wf.close()\n",
    "if not os.path.exists('test_folder'):\n",
    "    os.mkdir('test_folder')\n",
    "shutil.copy2('newfile1', 'test_folder')"
   ]
  },
  {
   "cell_type": "code",
   "execution_count": 42,
   "metadata": {},
   "outputs": [],
   "source": [
    "shutil.rmtree('test_folder')"
   ]
  },
  {
   "cell_type": "markdown",
   "metadata": {},
   "source": [
    "# itertools"
   ]
  },
  {
   "cell_type": "markdown",
   "metadata": {},
   "source": [
    "Combinations and permutations are often found in scientific problems. The module `itertools` offers efficient functions for create iterables for those operations. Compared to actual lists, iterators can create infinite iterations, producing new elements as needed. An iterator has the advantage of using less memory than actual lists.\n",
    "\n",
    "For example this iterators create new elements without limit:"
   ]
  },
  {
   "cell_type": "code",
   "execution_count": 43,
   "metadata": {},
   "outputs": [],
   "source": [
    "import itertools"
   ]
  },
  {
   "cell_type": "code",
   "execution_count": 44,
   "metadata": {},
   "outputs": [
    {
     "name": "stdout",
     "output_type": "stream",
     "text": [
      "13\n",
      "14\n",
      "15\n",
      "16\n",
      "17\n",
      "18\n",
      "19\n",
      "20\n",
      "21\n",
      "22\n"
     ]
    }
   ],
   "source": [
    "index=0\n",
    "for i in itertools.count(13):\n",
    "    print(i)\n",
    "    index=index+1\n",
    "    if index>9:\n",
    "        break"
   ]
  },
  {
   "cell_type": "code",
   "execution_count": 45,
   "metadata": {},
   "outputs": [
    {
     "name": "stdout",
     "output_type": "stream",
     "text": [
      "a\n",
      "e\n",
      "i\n",
      "o\n",
      "u\n",
      "a\n",
      "e\n",
      "i\n",
      "o\n",
      "u\n"
     ]
    }
   ],
   "source": [
    "index=0\n",
    "for i in itertools.cycle('aeiou'):\n",
    "    print(i)\n",
    "    index=index+1\n",
    "    if index>9:\n",
    "        break"
   ]
  },
  {
   "cell_type": "code",
   "execution_count": 46,
   "metadata": {},
   "outputs": [
    {
     "name": "stdout",
     "output_type": "stream",
     "text": [
      "one\n",
      "one\n",
      "one\n",
      "one\n",
      "one\n"
     ]
    }
   ],
   "source": [
    "for i in itertools.repeat('one',5):\n",
    "    print(i)"
   ]
  },
  {
   "cell_type": "markdown",
   "metadata": {},
   "source": [
    "For large interations, this is more memory efficient than and equivalent:"
   ]
  },
  {
   "cell_type": "code",
   "execution_count": 47,
   "metadata": {},
   "outputs": [
    {
     "name": "stdout",
     "output_type": "stream",
     "text": [
      "one\n",
      "one\n",
      "one\n",
      "one\n",
      "one\n"
     ]
    }
   ],
   "source": [
    "for i in 5*['one']:\n",
    "    print(i)"
   ]
  },
  {
   "cell_type": "markdown",
   "metadata": {},
   "source": [
    "Iterators for Combinations and Permutations can be created as follows:"
   ]
  },
  {
   "cell_type": "code",
   "execution_count": 48,
   "metadata": {},
   "outputs": [
    {
     "name": "stdout",
     "output_type": "stream",
     "text": [
      "('A', 'B', 'C')\n",
      "('A', 'B', 'D')\n",
      "('A', 'C', 'B')\n",
      "('A', 'C', 'D')\n",
      "('A', 'D', 'B')\n",
      "('A', 'D', 'C')\n",
      "('B', 'A', 'C')\n",
      "('B', 'A', 'D')\n",
      "('B', 'C', 'A')\n",
      "('B', 'C', 'D')\n",
      "('B', 'D', 'A')\n",
      "('B', 'D', 'C')\n",
      "('C', 'A', 'B')\n",
      "('C', 'A', 'D')\n",
      "('C', 'B', 'A')\n",
      "('C', 'B', 'D')\n",
      "('C', 'D', 'A')\n",
      "('C', 'D', 'B')\n",
      "('D', 'A', 'B')\n",
      "('D', 'A', 'C')\n",
      "('D', 'B', 'A')\n",
      "('D', 'B', 'C')\n",
      "('D', 'C', 'A')\n",
      "('D', 'C', 'B')\n"
     ]
    }
   ],
   "source": [
    "for i in itertools.permutations('ABCD',3):\n",
    "    print(i)"
   ]
  },
  {
   "cell_type": "code",
   "execution_count": 49,
   "metadata": {},
   "outputs": [
    {
     "name": "stdout",
     "output_type": "stream",
     "text": [
      "('A', 'B', 'C')\n",
      "('A', 'B', 'D')\n",
      "('A', 'C', 'D')\n",
      "('B', 'C', 'D')\n"
     ]
    }
   ],
   "source": [
    "for i in itertools.combinations('ABCD',3):\n",
    "    print(i)"
   ]
  },
  {
   "cell_type": "code",
   "execution_count": 50,
   "metadata": {},
   "outputs": [
    {
     "name": "stdout",
     "output_type": "stream",
     "text": [
      "('A', 'A')\n",
      "('A', 'B')\n",
      "('A', 'C')\n",
      "('A', 'D')\n",
      "('B', 'A')\n",
      "('B', 'B')\n",
      "('B', 'C')\n",
      "('B', 'D')\n",
      "('C', 'A')\n",
      "('C', 'B')\n",
      "('C', 'C')\n",
      "('C', 'D')\n",
      "('D', 'A')\n",
      "('D', 'B')\n",
      "('D', 'C')\n",
      "('D', 'D')\n"
     ]
    }
   ],
   "source": [
    "for i in itertools.product('ABCD',repeat=2):\n",
    "    print(i)"
   ]
  },
  {
   "cell_type": "markdown",
   "metadata": {},
   "source": [
    "# json"
   ]
  },
  {
   "cell_type": "markdown",
   "metadata": {},
   "source": [
    "JSON is a lightweight data interchange format inspired by JavaScript object literal syntax. It is effective and standard way of storing structurated data. The JSON is just a format of serializing data similar to XML but more compact and easier to read for humans."
   ]
  },
  {
   "cell_type": "code",
   "execution_count": 51,
   "metadata": {},
   "outputs": [],
   "source": [
    "import json"
   ]
  },
  {
   "cell_type": "markdown",
   "metadata": {},
   "source": [
    "Consider serializing this dictionary:"
   ]
  },
  {
   "cell_type": "code",
   "execution_count": 52,
   "metadata": {},
   "outputs": [],
   "source": [
    "polygons={'triangle': 3, 'square': 4, 'pentagon': 5, 'hexagon': 6}"
   ]
  },
  {
   "cell_type": "code",
   "execution_count": 53,
   "metadata": {},
   "outputs": [
    {
     "data": {
      "text/plain": [
       "'{\"triangle\": 3, \"square\": 4, \"pentagon\": 5, \"hexagon\": 6}'"
      ]
     },
     "execution_count": 53,
     "metadata": {},
     "output_type": "execute_result"
    }
   ],
   "source": [
    "js=json.dumps(polygons)\n",
    "js"
   ]
  },
  {
   "cell_type": "markdown",
   "metadata": {},
   "source": [
    "This is a string that can be easily read by humans and also easily converted into a python dictionary."
   ]
  },
  {
   "cell_type": "code",
   "execution_count": 54,
   "metadata": {},
   "outputs": [
    {
     "data": {
      "text/plain": [
       "{'triangle': 3, 'square': 4, 'pentagon': 5, 'hexagon': 6}"
      ]
     },
     "execution_count": 54,
     "metadata": {},
     "output_type": "execute_result"
    }
   ],
   "source": [
    "poly=json.loads(js)\n",
    "poly"
   ]
  },
  {
   "cell_type": "markdown",
   "metadata": {},
   "source": [
    "There are extra arguments to beautify the string, for example:"
   ]
  },
  {
   "cell_type": "code",
   "execution_count": 55,
   "metadata": {},
   "outputs": [
    {
     "name": "stdout",
     "output_type": "stream",
     "text": [
      "{\n",
      "    \"hexagon\": 6,\n",
      "    \"pentagon\": 5,\n",
      "    \"square\": 4,\n",
      "    \"triangle\": 3\n",
      "}\n"
     ]
    }
   ],
   "source": [
    "print(json.dumps(polygons, sort_keys=True, indent=4))"
   ]
  },
  {
   "cell_type": "markdown",
   "metadata": {},
   "source": [
    "Similar to `json.dumps` and `json.loads` there are functions to write and read JSON content directly from readable files. The functions `json.dump(obj, fp, ...)` and `json.load(fp, ...)` work on File-like objects. File-like objects have to support `write()` and `read()` like normal text file objects."
   ]
  },
  {
   "cell_type": "markdown",
   "metadata": {},
   "source": [
    "# subprocess"
   ]
  },
  {
   "cell_type": "markdown",
   "metadata": {},
   "source": [
    "The subprocess module allows you to spawn new processes, connect to their input/output/error pipes, and obtain their return codes. This module intends to replace several older modules and functions like `os.system`. "
   ]
  },
  {
   "cell_type": "markdown",
   "metadata": {},
   "source": [
    "The underlying process creation and management in this module is handled by the Popen class. It offers a lot of flexibility so that developers are able to handle the less common cases not covered by the convenience functions."
   ]
  },
  {
   "cell_type": "code",
   "execution_count": 56,
   "metadata": {},
   "outputs": [],
   "source": [
    "import subprocess"
   ]
  },
  {
   "cell_type": "code",
   "execution_count": 57,
   "metadata": {},
   "outputs": [],
   "source": [
    "sp= subprocess.Popen([\"ls\",\"-lha\",\"/\"], stdout=subprocess.PIPE, stderr=subprocess.PIPE, universal_newlines=True)\n"
   ]
  },
  {
   "cell_type": "code",
   "execution_count": 58,
   "metadata": {},
   "outputs": [
    {
     "data": {
      "text/plain": [
       "0"
      ]
     },
     "execution_count": 58,
     "metadata": {},
     "output_type": "execute_result"
    }
   ],
   "source": [
    "sp.wait()"
   ]
  },
  {
   "cell_type": "markdown",
   "metadata": {},
   "source": [
    "The process.communicate() call reads input and output from the process.  stdout is the process output. stderr will be written only if an error occurs.  If you want to wait for the program to finish you can call Popen.wait()."
   ]
  },
  {
   "cell_type": "code",
   "execution_count": 59,
   "metadata": {},
   "outputs": [],
   "source": [
    "stout, sterr = sp.communicate()"
   ]
  },
  {
   "cell_type": "code",
   "execution_count": 60,
   "metadata": {},
   "outputs": [
    {
     "name": "stdout",
     "output_type": "stream",
     "text": [
      "total 182\n",
      "drwxr-xr-x   61 root        wheel   1.9K Sep 11 05:48 .\n",
      "drwxr-xr-x   61 root        wheel   1.9K Sep 11 05:48 ..\n",
      "-rw-rw-r--    1 root        admin    10K Sep 13 18:44 .DS_Store\n",
      "d--x--x--x    9 root        wheel   288B Sep 11 05:50 .DocumentRevisions-V100\n",
      "dr-xr-xr-t@   2 root        wheel    64B Jul 15  2017 .HFS+ Private Directory Data\n",
      "-rw-r--r--    1 root        wheel   992B Sep 11 05:48 .OSInstallerMessages\n",
      "drwxr-xr-x    2 root        admin    64B Oct  9  2017 .PKInstallSandboxManager\n",
      "drwx------    2 root        admin    64B Sep 13 08:51 .PKInstallSandboxManager-SystemSoftware\n",
      "drwx------    5 root        wheel   160B Jul 15  2017 .Spotlight-V100\n",
      "d-wx-wx-wt    2 root        wheel    64B Oct  9  2017 .Trashes\n",
      "-rw-r--r--@   1 aldoromero  staff   312B Oct 28  2012 .apdisk\n",
      "-rw-r--r--@   1 aldoromero  staff     0B Oct 22  2013 .com.apple.timemachine.donotpresent\n",
      "srwxrwxrwx    1 root        wheel     0B Jul 28 08:51 .dbfseventsd\n",
      "----------    1 root        admin     0B Aug 17  2018 .file\n",
      "drwx------  132 root        wheel   4.1K Sep 16 08:18 .fseventsd\n",
      "drwxr-xr-x    2 root        wheel    64B Oct 19  2018 .vol\n",
      "drwxrwxr-x+ 189 root        admin   5.9K Sep 11 05:47 Applications\n",
      "drwxrwxrwt    3 root        wheel    96B Oct 23  2017 DamagedFiles\n",
      "drwxrwxr-x    7 root        wheel   224B Oct 23  2017 Developer\n",
      "drwxr-xr-x+  73 root        wheel   2.3K Jan  7  2019 Library\n",
      "lrwxr-xr-x    1 root        wheel    60B Oct 23  2017 Manuales e información para el usuario -> /Library/Documentation/User Guides and Information.localized\n",
      "drwxr-xr-x    2 root        wheel    64B Oct 19  2018 Network\n",
      "drwxr-xr-x@   5 root        wheel   160B Sep 21  2018 System\n",
      "-rw-r--r--@   1 root        wheel     4B Oct  5  2015 TEST.txt\n",
      "lrwxr-xr-x    1 root        wheel    49B Oct 23  2017 User Information -> /Library/Documentation/User Information.localized\n",
      "drwxr-xr-x    7 root        admin   224B Oct 19  2018 Users\n",
      "drwxr-xr-x@   4 root        wheel   128B Sep 15 08:53 Volumes\n",
      "drwxr-xr-x@  37 root        wheel   1.2K Sep 11 05:47 bin\n",
      "drwxr-xr-x    7 5667        2068    224B Oct 23  2017 clang+llvm-3.3-x86_64-apple-darwin12\n",
      "drwxrwxr-t    2 root        admin    64B Oct 19  2018 cores\n",
      "dr-xr-xr-x    3 root        wheel   4.6K Sep 11 05:49 dev\n",
      "lrwxr-xr-x@   1 root        wheel    11B Oct 19  2018 etc -> private/etc\n",
      "dr-xr-xr-x    2 root        wheel     1B Sep 14 11:47 home\n",
      "-rw-r-----    1 root        admin     0B Aug 18 14:09 hs_err_pid5523.log\n",
      "-rw-r-----    1 root        admin    41B Jul 23 16:49 hs_err_pid5523.log.0.gz\n",
      "-rw-r-----    1 root        admin    41B Jun 24 15:38 hs_err_pid5523.log.1.gz\n",
      "-rw-r-----    1 root        admin    41B Jun  6 06:55 hs_err_pid5523.log.2.gz\n",
      "-rw-r-----    1 root        admin    41B May 12 07:05 hs_err_pid5523.log.3.gz\n",
      "-rw-r-----    1 root        admin    41B Apr 11 20:52 hs_err_pid5523.log.4.gz\n",
      "-rw-r-----    1 root        admin     0B Aug 18 14:09 hs_err_pid6243.log\n",
      "-rw-r-----    1 root        admin    41B Jul 23 16:49 hs_err_pid6243.log.0.gz\n",
      "-rw-r-----    1 root        admin    41B Jun 24 15:38 hs_err_pid6243.log.1.gz\n",
      "-rw-r-----    1 root        admin    41B Jun  6 06:55 hs_err_pid6243.log.2.gz\n",
      "-rw-r-----    1 root        admin    41B May 12 07:05 hs_err_pid6243.log.3.gz\n",
      "-rw-r-----    1 root        admin    41B Apr 11 20:52 hs_err_pid6243.log.4.gz\n",
      "-rw-r-----    1 root        admin     0B Aug 18 14:09 hs_err_pid6342.log\n",
      "-rw-r-----    1 root        admin    41B Jul 23 16:49 hs_err_pid6342.log.0.gz\n",
      "-rw-r-----    1 root        admin    41B Jun 24 15:38 hs_err_pid6342.log.1.gz\n",
      "-rw-r-----    1 root        admin    41B Jun  6 06:55 hs_err_pid6342.log.2.gz\n",
      "-rw-r-----    1 root        admin    41B May 12 07:05 hs_err_pid6342.log.3.gz\n",
      "-rw-r-----    1 root        admin    41B Apr 11 20:52 hs_err_pid6342.log.4.gz\n",
      "drwxr-xr-x    3 root        wheel    96B Apr 15 15:39 include\n",
      "-rw-r--r--    1 root        wheel   313B Aug 17  2018 installer.failurerequests\n",
      "drwxr-xr-x    8 root        wheel   256B Apr 15 15:39 lib\n",
      "dr-xr-xr-x    2 root        wheel     1B Sep 14 11:47 net\n",
      "drwxr-xr-x    8 root        wheel   256B Dec 27  2017 opt\n",
      "drwxr-xr-x    6 root        wheel   192B Oct 19  2018 private\n",
      "drwxr-xr-x@  64 root        wheel   2.0K Sep 11 05:47 sbin\n",
      "lrwxr-xr-x@   1 root        wheel    11B Oct 19  2018 tmp -> private/tmp\n",
      "drwxr-xr-x@  10 root        wheel   320B Apr  2 19:26 usr\n",
      "lrwxr-xr-x@   1 root        wheel    11B Oct 19  2018 var -> private/var\n",
      "\n"
     ]
    }
   ],
   "source": [
    "print(stout)"
   ]
  },
  {
   "cell_type": "markdown",
   "metadata": {},
   "source": [
    "`subprocess` module have receive several important changes in the last versions of Python 3.x. Prior to version 3.5 the high level function was `subprocess.call()`, `subprocess.check_call()` and `subprocess.check_output()` all this functionality was replaced by `subprocess.run()` from version 3.5 and beyond."
   ]
  },
  {
   "cell_type": "markdown",
   "metadata": {},
   "source": [
    "# multiprocessing"
   ]
  },
  {
   "cell_type": "markdown",
   "metadata": {},
   "source": [
    "Up to now, we have been dealing with serial processes but now most computer have several cores that allow us to do multiprocessing. Multiprocessing refers to the ability of a system to support more than one processor at the same time. Applications in a multiprocessing system are broken to smaller routines that run independently and in in more cases they talk to each other very unfrequently. A simple way to see this is to have 4 different drivers that try to go from point A to point B. Each driver can take its own path but at the end they will get together at point B. Python have difference methods, where the operating system allocates these threads to the processors improving performance of the system.\n",
    "\n",
    "`multiprocessing` is a package that supports spawning processes using an API similar to the threading module. The multiprocessing package effectively side-stepping the Global Interpreter Lock by using subprocesses instead of threads. Due to this, the multiprocessing module allows the programmer to fully leverage multiple processors on a given machine.\n",
    "\n",
    "For intensive numerical calculations, `multiprocessing` must be preferred over `multithreading` a similar module that spawns threads instead of processes.\n",
    "\n",
    "The frequently use class `Pool` offers a simple way to spawn multiple workers to divide the same function over an interable divinding the workload over a number of workers. The prototypical example is like this:"
   ]
  },
  {
   "cell_type": "code",
   "execution_count": 61,
   "metadata": {},
   "outputs": [],
   "source": [
    "import multiprocessing"
   ]
  },
  {
   "cell_type": "code",
   "execution_count": 62,
   "metadata": {},
   "outputs": [
    {
     "name": "stdout",
     "output_type": "stream",
     "text": [
      "[-1.0, 6.123233995736766e-17, 0.5000000000000001, 0.7071067811865476, 0.8090169943749475, 0.8660254037844387, 0.9009688679024191, 0.9238795325112867, 0.9396926207859084, 0.9510565162951535, 0.9594929736144974, 0.9659258262890683, 0.970941817426052, 0.9749279121818236, 0.9781476007338057, 0.9807852804032304, 0.9829730996839018, 0.984807753012208, 0.9863613034027223, 0.9876883405951378, 0.9888308262251285, 0.9898214418809327, 0.9906859460363308, 0.9914448613738104, 0.9921147013144779, 0.992708874098054, 0.993238357741943, 0.9937122098932426, 0.9941379571543596, 0.9945218953682733, 0.9948693233918952, 0.9951847266721969, 0.9954719225730846, 0.9957341762950345, 0.9959742939952391, 0.9961946980917455, 0.9963974885425265, 0.9965844930066698, 0.99675730813421, 0.996917333733128, 0.9970658011837404, 0.9972037971811801, 0.9973322836635516, 0.9974521146102535, 0.9975640502598242, 0.9976687691905392, 0.9977668786231532, 0.9978589232386035, 0.9979453927503363, 0.9980267284282716, 0.9981033287370441, 0.9981755542233175, 0.9982437317643215, 0.9983081582712682, 0.9983691039261356, 0.9984268150178166, 0.9984815164333162, 0.9985334138511238, 0.9985826956767619, 0.9986295347545738, 0.9986740898848305, 0.9987165071710528, 0.9987569212189223, 0.9987954562051724, 0.9988322268323266, 0.998867339183008, 0.9989008914857115, 0.9989329748023724, 0.9989636736467276, 0.9989930665413147, 0.9990212265199736, 0.9990482215818578, 0.99907411510223, 0.9990989662046815, 0.9991228300988584, 0.999145758387301, 0.9991677993445829, 0.9991889981715696, 0.9992093972273018, 0.9992290362407229, 0.99924795250423, 0.99926618105081, 0.9992837548163315, 0.9993007047883985, 0.9993170601430229, 0.9993328483702394, 0.999348095389677, 0.9993628256569916, 0.9993770622619782, 0.9993908270190958, 0.9994041405510704, 0.999417022366174, 0.999429490929718, 0.9994415637302546, 0.999453257340926, 0.9994645874763657, 0.9994755690455149, 0.9994862162006879, 0.9994965423831851]\n"
     ]
    }
   ],
   "source": [
    "import math\n",
    "\n",
    "def f(x):\n",
    "    return math.cos(math.pi/x)\n",
    "\n",
    "if __name__ == '__main__':\n",
    "    with multiprocessing.Pool(multiprocessing.cpu_count()) as p:\n",
    "        print(p.map(f, range(1,100)))"
   ]
  },
  {
   "cell_type": "code",
   "execution_count": 63,
   "metadata": {},
   "outputs": [
    {
     "data": {
      "text/plain": [
       "8"
      ]
     },
     "execution_count": 63,
     "metadata": {},
     "output_type": "execute_result"
    }
   ],
   "source": [
    "multiprocessing.cpu_count()"
   ]
  },
  {
   "cell_type": "markdown",
   "metadata": {},
   "source": [
    "This is a function to get the number of cores on the system. That is different from the number of cores available to the Python process. The recommended method is using `os.sched_getaffinity(0)` but it is absent on some architectures. In particular in MacOS, Windows and some old Linux distros."
   ]
  },
  {
   "cell_type": "markdown",
   "metadata": {},
   "source": [
    "# Final Remarks"
   ]
  },
  {
   "cell_type": "markdown",
   "metadata": {},
   "source": [
    "The Python Standard Library is extense, and the API more prone to changes than the language itself. In real project is better to decide what will be the oldest version of Python that will be supported and keep compatibility until the marker is shifted for a more recent version. Most Linux distributions today includes Python 3.5 or newer."
   ]
  }
 ],
 "metadata": {
  "kernelspec": {
   "display_name": "Python 3",
   "language": "python",
   "name": "python3"
  },
  "language_info": {
   "codemirror_mode": {
    "name": "ipython",
    "version": 3
   },
   "file_extension": ".py",
   "mimetype": "text/x-python",
   "name": "python",
   "nbconvert_exporter": "python",
   "pygments_lexer": "ipython3",
   "version": "3.7.4"
  }
 },
 "nbformat": 4,
 "nbformat_minor": 2
}
